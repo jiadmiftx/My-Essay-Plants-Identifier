{
  "nbformat": 4,
  "nbformat_minor": 0,
  "metadata": {
    "colab": {
      "provenance": [],
      "authorship_tag": "ABX9TyPKGwsz+Z7TCMcrXcl7wIOV",
      "include_colab_link": true
    },
    "kernelspec": {
      "name": "python3",
      "display_name": "Python 3"
    }
  },
  "cells": [
    {
      "cell_type": "markdown",
      "metadata": {
        "id": "view-in-github",
        "colab_type": "text"
      },
      "source": [
        "<a href=\"https://colab.research.google.com/github/jiadmiftx/My-Essay-Plants-Identifier/blob/master/Skripsi_Labs_fix_final.ipynb\" target=\"_parent\"><img src=\"https://colab.research.google.com/assets/colab-badge.svg\" alt=\"Open In Colab\"/></a>"
      ]
    },
    {
      "cell_type": "code",
      "metadata": {
        "id": "kHWmIWg3a1uC"
      },
      "source": [
        "#Import main library\n",
        "import matplotlib.pyplot as plt\n",
        "from PIL import Image\n",
        "\n",
        "#Import pytorch library\n",
        "from torch.nn import Module\n",
        "from torch.utils.data import Dataset, DataLoader\n",
        "from torch.functional import F\n",
        "from pathlib import Path\n",
        "import torchvision.transforms as trfm\n",
        "from torch import nn\n",
        "import torch.optim as optim\n",
        "import torch"
      ],
      "execution_count": null,
      "outputs": []
    },
    {
      "cell_type": "code",
      "metadata": {
        "id": "sZGx-LsVgIyB",
        "colab": {
          "base_uri": "https://localhost:8080/"
        },
        "outputId": "4a3bba61-2ee5-4a02-fa24-8cfb04f8bdd5"
      },
      "source": [
        "from google.colab import drive\n",
        "drive.mount('/content/drive')"
      ],
      "execution_count": null,
      "outputs": [
        {
          "output_type": "stream",
          "text": [
            "Mounted at /content/drive\n"
          ],
          "name": "stdout"
        }
      ]
    },
    {
      "cell_type": "code",
      "metadata": {
        "id": "bQssudZTLjD_",
        "colab": {
          "base_uri": "https://localhost:8080/"
        },
        "outputId": "45840a71-b84c-4e3a-cf72-4f815cd4455f"
      },
      "source": [
        "cd \"drive/My Drive/skripsi/\""
      ],
      "execution_count": null,
      "outputs": [
        {
          "output_type": "stream",
          "text": [
            "/content/drive/My Drive/skripsi\n"
          ],
          "name": "stdout"
        }
      ]
    },
    {
      "cell_type": "code",
      "metadata": {
        "id": "elgQp6c6reh3",
        "colab": {
          "base_uri": "https://localhost:8080/"
        },
        "outputId": "7da4e8ca-f23c-4e98-af8c-495c8adf79a2"
      },
      "source": [
        "ls"
      ],
      "execution_count": null,
      "outputs": [
        {
          "output_type": "stream",
          "text": [
            "02-entire_model.pt  dataloss.csv                mobilenet1.csv\n",
            "\u001b[0m\u001b[01;34massets\u001b[0m/             datalossD1.csv              mobilenet-fix.pt\n",
            "coba.pth            \u001b[01;34mdataset-daun10\u001b[0m/             mobilenets.csv\n",
            "dataloss0001.csv    entire_model.pt             mobilenettest.csv\n",
            "dataloss001.csv     fixdahmodel.pt              modelfixfix.pt\n",
            "dataloss1.csv       fix_model.pt                state_dictentire_model.pt\n",
            "dataloss2.csv       fixmodel.pt                 state_dictfix_model.pt\n",
            "datalossA1.csv      latest.pth                  state_dict_mobile_model.pt\n",
            "datalossB1.csv      mobile_CPU_mobile_model.pt  state_dict_model.pt\n",
            "datalossB2.csv      mobile_model_jit.pt\n",
            "datalossC1.csv      mobile_model.pt\n"
          ],
          "name": "stdout"
        }
      ]
    },
    {
      "cell_type": "code",
      "metadata": {
        "id": "haVCXMT4rOOT"
      },
      "source": [
        "p = Path('dataset-daun10/train')"
      ],
      "execution_count": null,
      "outputs": []
    },
    {
      "cell_type": "code",
      "metadata": {
        "id": "GKh2o0XlrkjG",
        "colab": {
          "base_uri": "https://localhost:8080/"
        },
        "outputId": "daa3b824-3659-4bd3-f79d-7affbb34cfba"
      },
      "source": [
        "# Melihat semua isi dari folder p\n",
        "list(p.glob('*'))"
      ],
      "execution_count": null,
      "outputs": [
        {
          "output_type": "execute_result",
          "data": {
            "text/plain": [
              "[PosixPath('dataset-daun10/train/Tin_Ara'),\n",
              " PosixPath('dataset-daun10/train/Gingseng_Jawa'),\n",
              " PosixPath('dataset-daun10/train/Kumis_Kucing'),\n",
              " PosixPath('dataset-daun10/train/Bugenvil_Putih'),\n",
              " PosixPath('dataset-daun10/train/Keji_Beling'),\n",
              " PosixPath('dataset-daun10/train/Daun_Sirih'),\n",
              " PosixPath('dataset-daun10/train/Sembung'),\n",
              " PosixPath('dataset-daun10/train/Buah_Ajaib'),\n",
              " PosixPath('dataset-daun10/train/Kumquat_Nagami'),\n",
              " PosixPath('dataset-daun10/train/Pukul_Empat')]"
            ]
          },
          "metadata": {
            "tags": []
          },
          "execution_count": 10
        }
      ]
    },
    {
      "cell_type": "code",
      "metadata": {
        "id": "RdbetajGCYIM",
        "colab": {
          "base_uri": "https://localhost:8080/"
        },
        "outputId": "3d16a131-30f1-4374-9cb3-98fceb52e032"
      },
      "source": [
        "list(enumerate(list(p.iterdir())))"
      ],
      "execution_count": null,
      "outputs": [
        {
          "output_type": "execute_result",
          "data": {
            "text/plain": [
              "[(0, PosixPath('dataset-daun10/train/Tin_Ara')),\n",
              " (1, PosixPath('dataset-daun10/train/Gingseng_Jawa')),\n",
              " (2, PosixPath('dataset-daun10/train/Kumis_Kucing')),\n",
              " (3, PosixPath('dataset-daun10/train/Bugenvil_Putih')),\n",
              " (4, PosixPath('dataset-daun10/train/Keji_Beling')),\n",
              " (5, PosixPath('dataset-daun10/train/Daun_Sirih')),\n",
              " (6, PosixPath('dataset-daun10/train/Sembung')),\n",
              " (7, PosixPath('dataset-daun10/train/Buah_Ajaib')),\n",
              " (8, PosixPath('dataset-daun10/train/Kumquat_Nagami')),\n",
              " (9, PosixPath('dataset-daun10/train/Pukul_Empat'))]"
            ]
          },
          "metadata": {
            "tags": []
          },
          "execution_count": 11
        }
      ]
    },
    {
      "cell_type": "code",
      "metadata": {
        "id": "DKlqPGC8DUYB",
        "colab": {
          "base_uri": "https://localhost:8080/"
        },
        "outputId": "c40832a8-c02e-4e79-8e6f-4a1ce0138948"
      },
      "source": [
        "#One hot encoding, membuat kelas masing2 data\n",
        "one_hot = {x[1].name:x[0] for x in list(enumerate(list(p.iterdir())))}\n",
        "one_hot"
      ],
      "execution_count": null,
      "outputs": [
        {
          "output_type": "execute_result",
          "data": {
            "text/plain": [
              "{'Buah_Ajaib': 7,\n",
              " 'Bugenvil_Putih': 3,\n",
              " 'Daun_Sirih': 5,\n",
              " 'Gingseng_Jawa': 1,\n",
              " 'Keji_Beling': 4,\n",
              " 'Kumis_Kucing': 2,\n",
              " 'Kumquat_Nagami': 8,\n",
              " 'Pukul_Empat': 9,\n",
              " 'Sembung': 6,\n",
              " 'Tin_Ara': 0}"
            ]
          },
          "metadata": {
            "tags": []
          },
          "execution_count": 12
        }
      ]
    },
    {
      "cell_type": "code",
      "metadata": {
        "id": "bJ2S5qoVrnEu"
      },
      "source": [
        "# Membuat dataset\n",
        "class DatasetDaun(Dataset):\n",
        "  {x[1].name:x[0] for x in list(enumerate(list(p.iterdir())))}\n",
        "  def __init__(self, path, trfm=None):\n",
        "    self.path = Path(path)\n",
        "    self.images = list(self.path.glob(\"*/*.jpg\"))\n",
        "    self.trfm = trfm\n",
        "    self.do_one_hot_encoding()\n",
        "  \n",
        "  def do_one_hot_encoding(self):\n",
        "    self.one_hot = {x[1].name:x[0] for x in list(enumerate(list(p.iterdir())))}\n",
        "\n",
        "  def __len__(self):\n",
        "    return len(self.images)\n",
        "  \n",
        "  def __getitem__(self, i):\n",
        "    path_image = self.images[i]\n",
        "    image = Image.open(path_image)\n",
        "    target = self.one_hot[path_image.parent.name]\n",
        "    if self.trfm != None:\n",
        "      image = self.trfm(image)\n",
        "    return image, target\n",
        "  "
      ],
      "execution_count": null,
      "outputs": []
    },
    {
      "cell_type": "code",
      "metadata": {
        "id": "jwYFwjukp39H"
      },
      "source": [
        "train_trfm = trfm.Compose([\n",
        "                           trfm.Resize((300, 300)),\n",
        "                           trfm.CenterCrop((224, 224)),\n",
        "                           trfm.RandomHorizontalFlip(),\n",
        "                           trfm.RandomVerticalFlip(),\n",
        "                           trfm.RandomRotation(30),\n",
        "                           trfm.CenterCrop((224, 224)),\n",
        "                           trfm.RandomHorizontalFlip(),\n",
        "                           trfm.RandomVerticalFlip(),\n",
        "                           trfm.RandomRotation(30),\n",
        "                           trfm.ToTensor(),\n",
        "                           trfm.Normalize(mean=(0.3843, 0.5313, 0.2795), std=(0.1838, 0.1798, 0.1811))\n",
        "])\n",
        "\n",
        "valid_trfm = trfm.Compose([\n",
        "                           trfm.Resize((300, 300)),\n",
        "                           trfm.CenterCrop((224, 224)),\n",
        "                           trfm.ToTensor()\n",
        "])"
      ],
      "execution_count": null,
      "outputs": []
    },
    {
      "cell_type": "code",
      "metadata": {
        "id": "vp5D3yGCq7IR"
      },
      "source": [
        "train_set = DatasetDaun(\"dataset-daun10/train/\", train_trfm)"
      ],
      "execution_count": null,
      "outputs": []
    },
    {
      "cell_type": "code",
      "metadata": {
        "id": "oNiOjVNhDasG",
        "colab": {
          "base_uri": "https://localhost:8080/"
        },
        "outputId": "63800829-5c9b-4e9c-87aa-c2e401dac9a5"
      },
      "source": [
        "ls dataset-daun10/"
      ],
      "execution_count": null,
      "outputs": [
        {
          "output_type": "stream",
          "text": [
            "\u001b[0m\u001b[01;34mtest\u001b[0m/  \u001b[01;34mtrain\u001b[0m/\n"
          ],
          "name": "stdout"
        }
      ]
    },
    {
      "cell_type": "code",
      "metadata": {
        "id": "KTDxPuyrDi_r"
      },
      "source": [
        "valid_set = DatasetDaun(\"dataset-daun10/test/\", train_trfm)"
      ],
      "execution_count": null,
      "outputs": []
    },
    {
      "cell_type": "code",
      "metadata": {
        "id": "dHYfuO06rTAR"
      },
      "source": [
        "train_loader = DataLoader(train_set, batch_size=16, shuffle=True)"
      ],
      "execution_count": null,
      "outputs": []
    },
    {
      "cell_type": "code",
      "metadata": {
        "id": "pu0miXftDysl"
      },
      "source": [
        "valid_loader = DataLoader(valid_set, batch_size=16, shuffle=True)"
      ],
      "execution_count": null,
      "outputs": []
    },
    {
      "cell_type": "code",
      "metadata": {
        "id": "eu5r7kHT577R"
      },
      "source": [
        "train_loader_iter = iter(train_loader)"
      ],
      "execution_count": null,
      "outputs": []
    },
    {
      "cell_type": "code",
      "metadata": {
        "id": "E4hf9HEKEC66"
      },
      "source": [
        "valid_loader_iter = iter(valid_loader)"
      ],
      "execution_count": null,
      "outputs": []
    },
    {
      "cell_type": "code",
      "metadata": {
        "id": "cTErUGqE5-0F",
        "colab": {
          "base_uri": "https://localhost:8080/"
        },
        "outputId": "54b7c77a-5bff-4a92-9752-90675c57f36d"
      },
      "source": [
        "train_loader_iter.next()[0].shape"
      ],
      "execution_count": null,
      "outputs": [
        {
          "output_type": "execute_result",
          "data": {
            "text/plain": [
              "torch.Size([16, 3, 224, 224])"
            ]
          },
          "metadata": {
            "tags": []
          },
          "execution_count": 24
        }
      ]
    },
    {
      "cell_type": "code",
      "metadata": {
        "id": "F-Ra2uZA6ThC"
      },
      "source": [
        "# Model buat sendiri, gagal.. jangan dipakai\n",
        "class ModelDeteksiDaun(nn.Module):\n",
        "    \n",
        "    def __init__(self):\n",
        "        super().__init__()\n",
        "        # untuk mempelajari feature\n",
        "        self.cnn = nn.Sequential(\n",
        "            #inputan channel = 3, output = 16, kernel = 3 -> 3x3\n",
        "            nn.Conv2d(3, 16, 3),\n",
        "            nn.MaxPool2d(3),\n",
        "            nn.ReLU(),\n",
        "            nn.Conv2d(16, 32, 3),\n",
        "            nn.MaxPool2d(3),\n",
        "            nn.ReLU(),\n",
        "            nn.Conv2d(32, 64, 3),\n",
        "            # maxpool dimensi 3 -> 3x3\n",
        "            nn.MaxPool2d(3),\n",
        "            nn.ReLU()\n",
        "        )\n",
        "        # Fully connected layer / classifiernya\n",
        "        self.fc = nn.Sequential(\n",
        "            nn.Flatten(),\n",
        "            nn.Linear(3136, 1000),\n",
        "            nn.ReLU(),\n",
        "            nn.Linear(1000, 500),\n",
        "            nn.ReLU(),\n",
        "            nn.Linear(500, 100),\n",
        "            nn.ReLU(),\n",
        "            nn.Linear(100, 3)\n",
        "        )\n",
        "        \n",
        "    def forward(self, x):\n",
        "        cnn = self.cnn(x)\n",
        "        return self.fc(cnn)x"
      ],
      "execution_count": null,
      "outputs": []
    },
    {
      "cell_type": "code",
      "metadata": {
        "id": "H_hNPHm66qHK"
      },
      "source": [
        "mymodel = ModelDeteksiDaun()"
      ],
      "execution_count": null,
      "outputs": []
    },
    {
      "cell_type": "code",
      "metadata": {
        "id": "FqX6pM656xaz"
      },
      "source": [
        "#Sdah dilakukan diatas\n",
        "train_set = DatasetDaun(\"dataset-daun/train\", train_trfm)\n",
        "train_loader = DataLoader(train_set, batch_size=16, shuffle=True)\n",
        "train_loader_iter = iter(train_loader)"
      ],
      "execution_count": null,
      "outputs": []
    },
    {
      "cell_type": "code",
      "metadata": {
        "id": "MbB9SaO_EbjK"
      },
      "source": [
        "# Sudah dilakukan diatas\n",
        "valid_set = DatasetDaun(\"dataset-daun/test\", train_trfm)\n",
        "valid_loader = DataLoader(valid_set, batch_size=16, shuffle=True)\n",
        "valid_loader_iter = iter(valid_loader)"
      ],
      "execution_count": null,
      "outputs": []
    },
    {
      "cell_type": "code",
      "metadata": {
        "id": "unMXv3ks7IzR"
      },
      "source": [
        "# Fungsi activasi\n",
        "criterion = nn.CrossEntropyLoss()\n",
        "optimizer = optim.SGD(mymodel.parameters(), lr=0.001, momentum=0.9)"
      ],
      "execution_count": null,
      "outputs": []
    },
    {
      "cell_type": "code",
      "metadata": {
        "id": "sEOUhmjk-8FF"
      },
      "source": [
        "from sklearn.metrics import confusion_matrix"
      ],
      "execution_count": null,
      "outputs": []
    },
    {
      "cell_type": "code",
      "metadata": {
        "id": "Eux1y5-07Zn1",
        "colab": {
          "base_uri": "https://localhost:8080/",
          "height": 462
        },
        "outputId": "ffc0c8ec-2eab-41b4-ee20-0f6c7ecadb38"
      },
      "source": [
        "for epoch in range(25):\n",
        "\n",
        "    train_loss = []\n",
        "    valid_loss = []\n",
        "    train_acc = []\n",
        "    valid_acc = []\n",
        "\n",
        "    for index, train in enumerate(train_loader):\n",
        "        image, target = train\n",
        "\n",
        "        # Mengahpus gradien dari backward sebelumnya / set gradient menjadi 0 \n",
        "        optimizer.zero_grad()\n",
        "        forward = mymodel(image)\n",
        "        \n",
        "        # Menghitung Cross Entropy Loss\n",
        "        loss = criterion(forward, target)\n",
        "\n",
        "        # What is this? \n",
        "        loss.backward()\n",
        "\n",
        "        # Mengoptimalkan gradient / mengupdate weight pada gradient berdasar gradient setalh backward\n",
        "        optimizer.step()\n",
        "\n",
        "        y_pred = forward.argmax(1)\n",
        "\n",
        "        # Menghitung Accuracy\n",
        "        acc = sum(1*(target == y_pred))/(len(target)+.0)\n",
        "        train_loss.append(loss.item())\n",
        "        train_acc.append(acc)\n",
        "\n",
        "    for index, valid in enumerate(valid_loader):\n",
        "        image, target = valid\n",
        "\n",
        "        forward = mymodel(image)\n",
        "\n",
        "        loss = criterion(forward, target)\n",
        "\n",
        "        y_pred = forward.argmax(1)\n",
        "        acc = sum(1*(target == y_pred))/(len(target)+.0)\n",
        "        valid_loss.append(loss.item())\n",
        "        valid_acc.append(acc)\n",
        "        \n",
        "    print(f\"Epoch {epoch} - Train Loss {sum(train_loss)/len(train_loss)} - Valid loss {sum(valid_loss)/len(valid_loss)} - Train accuracy {(sum(train_acc)/len(train_acc))*100} - Valid accuracy {(sum(valid_acc)/len(valid_acc))*100}\")\n",
        "\n"
      ],
      "execution_count": null,
      "outputs": [
        {
          "output_type": "stream",
          "text": [
            "Epoch 0 - Train Loss 0.3033936669429143 - Valid loss 0.5623985081911087 - Train accuracy 87.5 - Valid accuracy 79.16667175292969\n",
            "Epoch 1 - Train Loss 0.2257735716799895 - Valid loss 0.4479406327009201 - Train accuracy 94.27082824707031 - Valid accuracy 80.72917175292969\n",
            "Epoch 2 - Train Loss 0.19631291615466276 - Valid loss 0.46286557987332344 - Train accuracy 93.75 - Valid accuracy 77.08332824707031\n",
            "Epoch 3 - Train Loss 0.2699238285422325 - Valid loss 0.38567470759153366 - Train accuracy 90.10417175292969 - Valid accuracy 89.0625\n",
            "Epoch 4 - Train Loss 0.20314741930148253 - Valid loss 0.38901928439736366 - Train accuracy 89.58332824707031 - Valid accuracy 85.9375\n",
            "Epoch 5 - Train Loss 0.20889762416481972 - Valid loss 0.3072242774069309 - Train accuracy 90.625 - Valid accuracy 86.97917175292969\n",
            "Epoch 6 - Train Loss 0.1780566486219565 - Valid loss 0.5030258223414421 - Train accuracy 96.35417175292969 - Valid accuracy 83.85417175292969\n",
            "Epoch 7 - Train Loss 0.16389910504221916 - Valid loss 0.29155978187918663 - Train accuracy 96.35417175292969 - Valid accuracy 90.625\n",
            "Epoch 8 - Train Loss 0.15136780279378095 - Valid loss 0.37367499992251396 - Train accuracy 94.79167175292969 - Valid accuracy 83.85417175292969\n",
            "Epoch 9 - Train Loss 0.13303913734853268 - Valid loss 0.4692281112074852 - Train accuracy 94.79167175292969 - Valid accuracy 85.41667175292969\n",
            "Epoch 10 - Train Loss 0.1041372399777174 - Valid loss 0.43221889808773994 - Train accuracy 96.35417175292969 - Valid accuracy 83.85417175292969\n",
            "Epoch 11 - Train Loss 0.09854186046868563 - Valid loss 0.269249863922596 - Train accuracy 96.35417175292969 - Valid accuracy 86.97917175292969\n",
            "Epoch 12 - Train Loss 0.2084444136514018 - Valid loss 0.5168741680681705 - Train accuracy 92.1875 - Valid accuracy 84.375\n",
            "Epoch 13 - Train Loss 0.192097197053954 - Valid loss 0.25056320801377296 - Train accuracy 92.70832824707031 - Valid accuracy 91.14582824707031\n",
            "Epoch 14 - Train Loss 0.14578253038538 - Valid loss 0.3587178438901901 - Train accuracy 92.1875 - Valid accuracy 86.97917175292969\n",
            "Epoch 15 - Train Loss 0.11306838660190503 - Valid loss 0.48799170553684235 - Train accuracy 97.39582824707031 - Valid accuracy 83.85417175292969\n",
            "Epoch 16 - Train Loss 0.12194933866461118 - Valid loss 0.5165873691439629 - Train accuracy 96.35417175292969 - Valid accuracy 83.33332824707031\n",
            "Epoch 17 - Train Loss 0.157659486712267 - Valid loss 0.46590543538331985 - Train accuracy 93.75 - Valid accuracy 81.77082824707031\n",
            "Epoch 18 - Train Loss 0.15430208574980497 - Valid loss 0.29347088560462 - Train accuracy 93.22917175292969 - Valid accuracy 86.97917175292969\n",
            "Epoch 19 - Train Loss 0.08856835371504228 - Valid loss 0.16752319782972336 - Train accuracy 96.875 - Valid accuracy 93.75\n",
            "Epoch 20 - Train Loss 0.11619929557976623 - Valid loss 0.3416012339293957 - Train accuracy 95.83332824707031 - Valid accuracy 87.5\n",
            "Epoch 21 - Train Loss 0.07298581360373646 - Valid loss 0.3649865062907338 - Train accuracy 97.91667175292969 - Valid accuracy 87.5\n",
            "Epoch 22 - Train Loss 0.070377802515092 - Valid loss 0.4286600314080715 - Train accuracy 97.91667175292969 - Valid accuracy 86.97917175292969\n",
            "Epoch 23 - Train Loss 0.06401796693292756 - Valid loss 0.42143713869154453 - Train accuracy 98.4375 - Valid accuracy 86.97917175292969\n",
            "Epoch 24 - Train Loss 0.06302507873624563 - Valid loss 0.3456689715385437 - Train accuracy 98.4375 - Valid accuracy 88.54167175292969\n"
          ],
          "name": "stdout"
        }
      ]
    },
    {
      "cell_type": "code",
      "metadata": {
        "id": "tVH04QieAI7X",
        "colab": {
          "base_uri": "https://localhost:8080/",
          "height": 316
        },
        "outputId": "6e653b8d-c0fc-47e8-cfcd-843d4a0f46b6"
      },
      "source": [
        "loaded = torch.load('latest.pth')"
      ],
      "execution_count": null,
      "outputs": [
        {
          "output_type": "error",
          "ename": "AttributeError",
          "evalue": "ignored",
          "traceback": [
            "\u001b[0;31m---------------------------------------------------------------------------\u001b[0m",
            "\u001b[0;31mAttributeError\u001b[0m                            Traceback (most recent call last)",
            "\u001b[0;32m<ipython-input-7-4e85c644214f>\u001b[0m in \u001b[0;36m<module>\u001b[0;34m()\u001b[0m\n\u001b[0;32m----> 1\u001b[0;31m \u001b[0mloaded\u001b[0m \u001b[0;34m=\u001b[0m \u001b[0mtorch\u001b[0m\u001b[0;34m.\u001b[0m\u001b[0mload\u001b[0m\u001b[0;34m(\u001b[0m\u001b[0;34m'latest.pth'\u001b[0m\u001b[0;34m)\u001b[0m\u001b[0;34m\u001b[0m\u001b[0;34m\u001b[0m\u001b[0m\n\u001b[0m",
            "\u001b[0;32m/usr/local/lib/python3.6/dist-packages/torch/serialization.py\u001b[0m in \u001b[0;36mload\u001b[0;34m(f, map_location, pickle_module, **pickle_load_args)\u001b[0m\n\u001b[1;32m    583\u001b[0m                     \u001b[0;32mreturn\u001b[0m \u001b[0mtorch\u001b[0m\u001b[0;34m.\u001b[0m\u001b[0mjit\u001b[0m\u001b[0;34m.\u001b[0m\u001b[0mload\u001b[0m\u001b[0;34m(\u001b[0m\u001b[0mopened_file\u001b[0m\u001b[0;34m)\u001b[0m\u001b[0;34m\u001b[0m\u001b[0;34m\u001b[0m\u001b[0m\n\u001b[1;32m    584\u001b[0m                 \u001b[0;32mreturn\u001b[0m \u001b[0m_load\u001b[0m\u001b[0;34m(\u001b[0m\u001b[0mopened_zipfile\u001b[0m\u001b[0;34m,\u001b[0m \u001b[0mmap_location\u001b[0m\u001b[0;34m,\u001b[0m \u001b[0mpickle_module\u001b[0m\u001b[0;34m,\u001b[0m \u001b[0;34m**\u001b[0m\u001b[0mpickle_load_args\u001b[0m\u001b[0;34m)\u001b[0m\u001b[0;34m\u001b[0m\u001b[0;34m\u001b[0m\u001b[0m\n\u001b[0;32m--> 585\u001b[0;31m         \u001b[0;32mreturn\u001b[0m \u001b[0m_legacy_load\u001b[0m\u001b[0;34m(\u001b[0m\u001b[0mopened_file\u001b[0m\u001b[0;34m,\u001b[0m \u001b[0mmap_location\u001b[0m\u001b[0;34m,\u001b[0m \u001b[0mpickle_module\u001b[0m\u001b[0;34m,\u001b[0m \u001b[0;34m**\u001b[0m\u001b[0mpickle_load_args\u001b[0m\u001b[0;34m)\u001b[0m\u001b[0;34m\u001b[0m\u001b[0;34m\u001b[0m\u001b[0m\n\u001b[0m\u001b[1;32m    586\u001b[0m \u001b[0;34m\u001b[0m\u001b[0m\n\u001b[1;32m    587\u001b[0m \u001b[0;34m\u001b[0m\u001b[0m\n",
            "\u001b[0;32m/usr/local/lib/python3.6/dist-packages/torch/serialization.py\u001b[0m in \u001b[0;36m_legacy_load\u001b[0;34m(f, map_location, pickle_module, **pickle_load_args)\u001b[0m\n\u001b[1;32m    763\u001b[0m     \u001b[0munpickler\u001b[0m \u001b[0;34m=\u001b[0m \u001b[0mpickle_module\u001b[0m\u001b[0;34m.\u001b[0m\u001b[0mUnpickler\u001b[0m\u001b[0;34m(\u001b[0m\u001b[0mf\u001b[0m\u001b[0;34m,\u001b[0m \u001b[0;34m**\u001b[0m\u001b[0mpickle_load_args\u001b[0m\u001b[0;34m)\u001b[0m\u001b[0;34m\u001b[0m\u001b[0;34m\u001b[0m\u001b[0m\n\u001b[1;32m    764\u001b[0m     \u001b[0munpickler\u001b[0m\u001b[0;34m.\u001b[0m\u001b[0mpersistent_load\u001b[0m \u001b[0;34m=\u001b[0m \u001b[0mpersistent_load\u001b[0m\u001b[0;34m\u001b[0m\u001b[0;34m\u001b[0m\u001b[0m\n\u001b[0;32m--> 765\u001b[0;31m     \u001b[0mresult\u001b[0m \u001b[0;34m=\u001b[0m \u001b[0munpickler\u001b[0m\u001b[0;34m.\u001b[0m\u001b[0mload\u001b[0m\u001b[0;34m(\u001b[0m\u001b[0;34m)\u001b[0m\u001b[0;34m\u001b[0m\u001b[0;34m\u001b[0m\u001b[0m\n\u001b[0m\u001b[1;32m    766\u001b[0m \u001b[0;34m\u001b[0m\u001b[0m\n\u001b[1;32m    767\u001b[0m     \u001b[0mdeserialized_storage_keys\u001b[0m \u001b[0;34m=\u001b[0m \u001b[0mpickle_module\u001b[0m\u001b[0;34m.\u001b[0m\u001b[0mload\u001b[0m\u001b[0;34m(\u001b[0m\u001b[0mf\u001b[0m\u001b[0;34m,\u001b[0m \u001b[0;34m**\u001b[0m\u001b[0mpickle_load_args\u001b[0m\u001b[0;34m)\u001b[0m\u001b[0;34m\u001b[0m\u001b[0;34m\u001b[0m\u001b[0m\n",
            "\u001b[0;31mAttributeError\u001b[0m: Can't get attribute 'ModelDeteksiDaun' on <module '__main__'>"
          ]
        }
      ]
    },
    {
      "cell_type": "code",
      "metadata": {
        "id": "nUWQ96EUDULD",
        "colab": {
          "base_uri": "https://localhost:8080/",
          "height": 102
        },
        "outputId": "f01fb0d8-de84-40e2-d8d3-946aec21593b"
      },
      "source": [
        "ls -alhj"
      ],
      "execution_count": null,
      "outputs": [
        {
          "output_type": "stream",
          "text": [
            "total 47M\n",
            "drwx------ 4 root root 4.0K Jul 22 06:56 \u001b[0m\u001b[01;34mdataset-daun\u001b[0m/\n",
            "-rw------- 1 root root  32M Jul 22 06:33 dataset-daun.zip\n",
            "-rw------- 1 root root  15M Jul 30 11:21 latest.pth\n",
            "-rw------- 1 root root  21K Aug 24  2015 Vd-Orig.png\n"
          ],
          "name": "stdout"
        }
      ]
    },
    {
      "cell_type": "code",
      "metadata": {
        "id": "b0e8LIc4AVEh",
        "colab": {
          "base_uri": "https://localhost:8080/",
          "height": 185
        },
        "outputId": "883ad369-f639-4447-f0bc-29d4f3967540"
      },
      "source": [
        "pred = mymodel(input)\n",
        "y_pred = pred.argmax(1)\n"
      ],
      "execution_count": null,
      "outputs": [
        {
          "output_type": "error",
          "ename": "NameError",
          "evalue": "ignored",
          "traceback": [
            "\u001b[0;31m---------------------------------------------------------------------------\u001b[0m",
            "\u001b[0;31mNameError\u001b[0m                                 Traceback (most recent call last)",
            "\u001b[0;32m<ipython-input-5-9fd1dad760f3>\u001b[0m in \u001b[0;36m<module>\u001b[0;34m()\u001b[0m\n\u001b[0;32m----> 1\u001b[0;31m \u001b[0mpred\u001b[0m \u001b[0;34m=\u001b[0m \u001b[0mmymodel\u001b[0m\u001b[0;34m(\u001b[0m\u001b[0minput\u001b[0m\u001b[0;34m)\u001b[0m\u001b[0;34m\u001b[0m\u001b[0;34m\u001b[0m\u001b[0m\n\u001b[0m\u001b[1;32m      2\u001b[0m \u001b[0my_pred\u001b[0m \u001b[0;34m=\u001b[0m \u001b[0mpred\u001b[0m\u001b[0;34m.\u001b[0m\u001b[0margmax\u001b[0m\u001b[0;34m(\u001b[0m\u001b[0;36m1\u001b[0m\u001b[0;34m)\u001b[0m\u001b[0;34m\u001b[0m\u001b[0;34m\u001b[0m\u001b[0m\n",
            "\u001b[0;31mNameError\u001b[0m: name 'mymodel' is not defined"
          ]
        }
      ]
    },
    {
      "cell_type": "code",
      "metadata": {
        "id": "2EQ99J9hA4L7",
        "colab": {
          "base_uri": "https://localhost:8080/",
          "height": 34
        },
        "outputId": "6f2b6154-bcad-47de-a066-fcf3d0f929d0"
      },
      "source": [
        "sum(1*(target == y_pred))/(len(target)+.0)"
      ],
      "execution_count": null,
      "outputs": [
        {
          "output_type": "execute_result",
          "data": {
            "text/plain": [
              "tensor(0.7500)"
            ]
          },
          "metadata": {
            "tags": []
          },
          "execution_count": 81
        }
      ]
    },
    {
      "cell_type": "code",
      "metadata": {
        "id": "K24NIMSCCDCS",
        "colab": {
          "base_uri": "https://localhost:8080/",
          "height": 34
        },
        "outputId": "ba2aa83a-4ad7-44bd-dac7-8f04c023acdb"
      },
      "source": [],
      "execution_count": null,
      "outputs": [
        {
          "output_type": "execute_result",
          "data": {
            "text/plain": [
              "[0, 1, 1, 0, 0, 2, 0, 0, 0, 1, 1, 1, 1, 2, 1, 1]"
            ]
          },
          "metadata": {
            "tags": []
          },
          "execution_count": 57
        }
      ]
    },
    {
      "cell_type": "code",
      "metadata": {
        "id": "-gsTA0JPCJ5w",
        "colab": {
          "base_uri": "https://localhost:8080/",
          "height": 34
        },
        "outputId": "c697c2f5-e225-45f0-d483-2bc9ddd27f72"
      },
      "source": [
        "y_pred.numpy()"
      ],
      "execution_count": null,
      "outputs": [
        {
          "output_type": "execute_result",
          "data": {
            "text/plain": [
              "array([0, 1, 1, 0, 0, 1, 0, 0, 0, 1, 1, 1, 1, 1, 1, 1])"
            ]
          },
          "metadata": {
            "tags": []
          },
          "execution_count": 56
        }
      ]
    },
    {
      "cell_type": "code",
      "metadata": {
        "id": "dRJqYZbGBWN9"
      },
      "source": [],
      "execution_count": null,
      "outputs": []
    }
  ]
}