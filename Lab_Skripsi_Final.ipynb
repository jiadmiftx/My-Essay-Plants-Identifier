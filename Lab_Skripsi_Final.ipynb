{
  "nbformat": 4,
  "nbformat_minor": 0,
  "metadata": {
    "colab": {
      "provenance": [],
      "include_colab_link": true
    },
    "kernelspec": {
      "name": "python3",
      "display_name": "Python 3"
    },
    "accelerator": "GPU"
  },
  "cells": [
    {
      "cell_type": "markdown",
      "metadata": {
        "id": "view-in-github",
        "colab_type": "text"
      },
      "source": [
        "<a href=\"https://colab.research.google.com/github/jiadmiftx/My-Essay-Plants-Identifier/blob/master/Lab_Skripsi_Final.ipynb\" target=\"_parent\"><img src=\"https://colab.research.google.com/assets/colab-badge.svg\" alt=\"Open In Colab\"/></a>"
      ]
    },
    {
      "cell_type": "code",
      "metadata": {
        "id": "kHWmIWg3a1uC"
      },
      "source": [
        "#Import main library\n",
        "import matplotlib.pyplot as plt\n",
        "from PIL import Image\n",
        " \n",
        "#Import pytorch library\n",
        "from torch.nn import Module\n",
        "from torch.utils.data import Dataset, DataLoader\n",
        "from torch.functional import F\n",
        "from pathlib import Path\n",
        "import torchvision.transforms as trfm\n",
        "from torch import nn\n",
        "import torch.optim as optim\n",
        "import torch\n",
        "from torchvision.models import mobilenet_v2\n",
        "from torchsummary import summary"
      ],
      "execution_count": null,
      "outputs": []
    },
    {
      "cell_type": "code",
      "metadata": {
        "id": "sZGx-LsVgIyB",
        "colab": {
          "base_uri": "https://localhost:8080/"
        },
        "outputId": "b8b1f00e-cd5e-4f63-fe6b-1e1aac747309"
      },
      "source": [
        "from google.colab import drive\n",
        "drive.mount('/content/drive')"
      ],
      "execution_count": null,
      "outputs": [
        {
          "output_type": "stream",
          "text": [
            "Mounted at /content/drive\n"
          ],
          "name": "stdout"
        }
      ]
    },
    {
      "cell_type": "code",
      "metadata": {
        "id": "elgQp6c6reh3",
        "colab": {
          "base_uri": "https://localhost:8080/"
        },
        "outputId": "96e106b2-8f1b-4193-b2da-977ec9ee46f9"
      },
      "source": [
        "ls"
      ],
      "execution_count": null,
      "outputs": [
        {
          "output_type": "stream",
          "text": [
            "\u001b[0m\u001b[01;34m'Android Advanced Course slides'\u001b[0m/\n",
            "'cjv-cuwk-ruk - 16 Nov 2020.gjam'\n",
            " \u001b[01;34mClassroom\u001b[0m/\n",
            "'CNCF Telecom User Group Kickoff.gslides'\n",
            " \u001b[01;34mDien\u001b[0m/\n",
            " DSCF2015.JPG\n",
            " DSCF2021.JPG\n",
            " DSCF2025.JPG\n",
            " DSCF2147.JPG\n",
            "'Form Registrasi Workshop #1 Practical Data Mining.gform'\n",
            "'Formulir tanpa judul.gform'\n",
            " \u001b[01;34mFoto\u001b[0m/\n",
            " hehehe.gsheet\n",
            "'IDENTITAS PENITIP.pdf'\n",
            "'Jam Tanpa Judul.gjam'\n",
            " \u001b[01;34mknowledge\u001b[0m/\n",
            " \u001b[01;34mKomunitas\u001b[0m/\n",
            " _MG_6565.JPG\n",
            " _MG_6573.JPG\n",
            " _MG_6574.JPG\n",
            " _MG_6577.JPG\n",
            " _MG_6579.JPG\n",
            " _MG_6580.JPG\n",
            " _MG_6581.JPG\n",
            " _MG_6582.JPG\n",
            " _MG_6583.JPG\n",
            " _MG_6584.JPG\n",
            " _MG_6586.JPG\n",
            " _MG_6588.JPG\n",
            " _MG_6594.JPG\n",
            " _MG_6598.JPG\n",
            " _MG_6601.JPG\n",
            "'PC BukberDay - 28 Mei 2019.gform'\n",
            "'Pendaftaran StudyGroup Web Design.gform'\n",
            "'Presentasi tanpa judul (1).gslides'\n",
            "'Presentasi tanpa judul.gslides'\n",
            "'Registrasi StudyGroup Kotlin Android.gform'\n",
            "'RSVP Event SharingDay PCBUMIGORA #1.gform'\n",
            " Sibooking.drawio\n",
            "'Struktur 4.0 PC Bumigora.gslides'\n",
            "'Untitled Diagram.drawio'\n",
            "'Untitled Diagram.html'\n",
            "'VISI DAN MISI PROGRAMMING COMMUNITY.gdoc'\n",
            " xxxxx.gslides\n"
          ],
          "name": "stdout"
        }
      ]
    },
    {
      "cell_type": "code",
      "metadata": {
        "id": "Rihtqil4ojlj",
        "colab": {
          "base_uri": "https://localhost:8080/"
        },
        "outputId": "926c2719-446b-4580-aca9-b36e1655f826"
      },
      "source": [
        "ls"
      ],
      "execution_count": null,
      "outputs": [
        {
          "output_type": "stream",
          "text": [
            "\u001b[0m\u001b[01;34mdrive\u001b[0m/  \u001b[01;34msample_data\u001b[0m/\n"
          ],
          "name": "stdout"
        }
      ]
    },
    {
      "cell_type": "code",
      "metadata": {
        "id": "sZgFTqDTGnW-",
        "colab": {
          "base_uri": "https://localhost:8080/",
          "height": 204
        },
        "outputId": "b362b260-cbae-4cd7-f831-b560c70cb729"
      },
      "source": [
        "# Hasil training model\n",
        "import pandas as pd\n",
        "data = pd.read_csv(\"mobilenets.csv\")\n",
        "# data = data.drop(1)\n",
        "data.head()"
      ],
      "execution_count": null,
      "outputs": [
        {
          "output_type": "execute_result",
          "data": {
            "text/html": [
              "<div>\n",
              "<style scoped>\n",
              "    .dataframe tbody tr th:only-of-type {\n",
              "        vertical-align: middle;\n",
              "    }\n",
              "\n",
              "    .dataframe tbody tr th {\n",
              "        vertical-align: top;\n",
              "    }\n",
              "\n",
              "    .dataframe thead th {\n",
              "        text-align: right;\n",
              "    }\n",
              "</style>\n",
              "<table border=\"1\" class=\"dataframe\">\n",
              "  <thead>\n",
              "    <tr style=\"text-align: right;\">\n",
              "      <th></th>\n",
              "      <th>Train Loss</th>\n",
              "      <th>Valid Loss</th>\n",
              "      <th>Train Accuracy</th>\n",
              "      <th>Valid Accuracy</th>\n",
              "    </tr>\n",
              "  </thead>\n",
              "  <tbody>\n",
              "    <tr>\n",
              "      <th>0</th>\n",
              "      <td>1.988232</td>\n",
              "      <td>1.922930</td>\n",
              "      <td>41.940792</td>\n",
              "      <td>51.602566</td>\n",
              "    </tr>\n",
              "    <tr>\n",
              "      <th>1</th>\n",
              "      <td>1.731489</td>\n",
              "      <td>1.720221</td>\n",
              "      <td>66.611847</td>\n",
              "      <td>65.705132</td>\n",
              "    </tr>\n",
              "    <tr>\n",
              "      <th>2</th>\n",
              "      <td>1.452813</td>\n",
              "      <td>1.465935</td>\n",
              "      <td>79.769737</td>\n",
              "      <td>75.160255</td>\n",
              "    </tr>\n",
              "    <tr>\n",
              "      <th>3</th>\n",
              "      <td>1.218487</td>\n",
              "      <td>1.248222</td>\n",
              "      <td>84.539474</td>\n",
              "      <td>80.448715</td>\n",
              "    </tr>\n",
              "    <tr>\n",
              "      <th>4</th>\n",
              "      <td>1.021725</td>\n",
              "      <td>1.059674</td>\n",
              "      <td>90.131584</td>\n",
              "      <td>86.217949</td>\n",
              "    </tr>\n",
              "  </tbody>\n",
              "</table>\n",
              "</div>"
            ],
            "text/plain": [
              "   Train Loss   Valid Loss   Train Accuracy   Valid Accuracy \n",
              "0    1.988232     1.922930        41.940792         51.602566\n",
              "1    1.731489     1.720221        66.611847         65.705132\n",
              "2    1.452813     1.465935        79.769737         75.160255\n",
              "3    1.218487     1.248222        84.539474         80.448715\n",
              "4    1.021725     1.059674        90.131584         86.217949"
            ]
          },
          "metadata": {
            "tags": []
          },
          "execution_count": 5
        }
      ]
    },
    {
      "cell_type": "code",
      "metadata": {
        "id": "IHeCXHIoLDBv",
        "colab": {
          "base_uri": "https://localhost:8080/"
        },
        "outputId": "5144e61a-093a-4a5c-d8cc-ed06d4e6f2f4"
      },
      "source": [
        "# datas = data.drop(0)\n",
        "data.keys()"
      ],
      "execution_count": null,
      "outputs": [
        {
          "output_type": "execute_result",
          "data": {
            "text/plain": [
              "Index(['Train Loss', ' Valid Loss', ' Train Accuracy', ' Valid Accuracy '], dtype='object')"
            ]
          },
          "metadata": {
            "tags": []
          },
          "execution_count": 6
        }
      ]
    },
    {
      "cell_type": "code",
      "metadata": {
        "id": "chGuTOapCubq",
        "colab": {
          "base_uri": "https://localhost:8080/",
          "height": 669
        },
        "outputId": "dafa0d95-de1c-46c5-fe9a-5fbc64164f55"
      },
      "source": [
        "data.round({'Train Loss':2,' Valid Loss':2,' Train Accuracy':2, ' Valid Accuracy ':2})"
      ],
      "execution_count": null,
      "outputs": [
        {
          "output_type": "execute_result",
          "data": {
            "text/html": [
              "<div>\n",
              "<style scoped>\n",
              "    .dataframe tbody tr th:only-of-type {\n",
              "        vertical-align: middle;\n",
              "    }\n",
              "\n",
              "    .dataframe tbody tr th {\n",
              "        vertical-align: top;\n",
              "    }\n",
              "\n",
              "    .dataframe thead th {\n",
              "        text-align: right;\n",
              "    }\n",
              "</style>\n",
              "<table border=\"1\" class=\"dataframe\">\n",
              "  <thead>\n",
              "    <tr style=\"text-align: right;\">\n",
              "      <th></th>\n",
              "      <th>Train Loss</th>\n",
              "      <th>Valid Loss</th>\n",
              "      <th>Train Accuracy</th>\n",
              "      <th>Valid Accuracy</th>\n",
              "    </tr>\n",
              "  </thead>\n",
              "  <tbody>\n",
              "    <tr>\n",
              "      <th>0</th>\n",
              "      <td>1.99</td>\n",
              "      <td>1.92</td>\n",
              "      <td>41.94</td>\n",
              "      <td>51.60</td>\n",
              "    </tr>\n",
              "    <tr>\n",
              "      <th>1</th>\n",
              "      <td>1.73</td>\n",
              "      <td>1.72</td>\n",
              "      <td>66.61</td>\n",
              "      <td>65.71</td>\n",
              "    </tr>\n",
              "    <tr>\n",
              "      <th>2</th>\n",
              "      <td>1.45</td>\n",
              "      <td>1.47</td>\n",
              "      <td>79.77</td>\n",
              "      <td>75.16</td>\n",
              "    </tr>\n",
              "    <tr>\n",
              "      <th>3</th>\n",
              "      <td>1.22</td>\n",
              "      <td>1.25</td>\n",
              "      <td>84.54</td>\n",
              "      <td>80.45</td>\n",
              "    </tr>\n",
              "    <tr>\n",
              "      <th>4</th>\n",
              "      <td>1.02</td>\n",
              "      <td>1.06</td>\n",
              "      <td>90.13</td>\n",
              "      <td>86.22</td>\n",
              "    </tr>\n",
              "    <tr>\n",
              "      <th>5</th>\n",
              "      <td>0.82</td>\n",
              "      <td>0.91</td>\n",
              "      <td>93.42</td>\n",
              "      <td>92.95</td>\n",
              "    </tr>\n",
              "    <tr>\n",
              "      <th>6</th>\n",
              "      <td>0.68</td>\n",
              "      <td>0.77</td>\n",
              "      <td>93.91</td>\n",
              "      <td>94.71</td>\n",
              "    </tr>\n",
              "    <tr>\n",
              "      <th>7</th>\n",
              "      <td>0.60</td>\n",
              "      <td>0.66</td>\n",
              "      <td>94.90</td>\n",
              "      <td>94.23</td>\n",
              "    </tr>\n",
              "    <tr>\n",
              "      <th>8</th>\n",
              "      <td>0.48</td>\n",
              "      <td>0.57</td>\n",
              "      <td>96.88</td>\n",
              "      <td>96.63</td>\n",
              "    </tr>\n",
              "    <tr>\n",
              "      <th>9</th>\n",
              "      <td>0.40</td>\n",
              "      <td>0.51</td>\n",
              "      <td>98.52</td>\n",
              "      <td>97.28</td>\n",
              "    </tr>\n",
              "    <tr>\n",
              "      <th>10</th>\n",
              "      <td>0.39</td>\n",
              "      <td>0.45</td>\n",
              "      <td>97.20</td>\n",
              "      <td>97.12</td>\n",
              "    </tr>\n",
              "    <tr>\n",
              "      <th>11</th>\n",
              "      <td>0.36</td>\n",
              "      <td>0.38</td>\n",
              "      <td>97.04</td>\n",
              "      <td>98.08</td>\n",
              "    </tr>\n",
              "    <tr>\n",
              "      <th>12</th>\n",
              "      <td>0.29</td>\n",
              "      <td>0.34</td>\n",
              "      <td>98.03</td>\n",
              "      <td>99.52</td>\n",
              "    </tr>\n",
              "    <tr>\n",
              "      <th>13</th>\n",
              "      <td>0.27</td>\n",
              "      <td>0.31</td>\n",
              "      <td>97.86</td>\n",
              "      <td>98.08</td>\n",
              "    </tr>\n",
              "    <tr>\n",
              "      <th>14</th>\n",
              "      <td>0.23</td>\n",
              "      <td>0.28</td>\n",
              "      <td>98.03</td>\n",
              "      <td>97.60</td>\n",
              "    </tr>\n",
              "    <tr>\n",
              "      <th>15</th>\n",
              "      <td>0.23</td>\n",
              "      <td>0.26</td>\n",
              "      <td>97.86</td>\n",
              "      <td>98.56</td>\n",
              "    </tr>\n",
              "    <tr>\n",
              "      <th>16</th>\n",
              "      <td>0.19</td>\n",
              "      <td>0.24</td>\n",
              "      <td>98.52</td>\n",
              "      <td>99.04</td>\n",
              "    </tr>\n",
              "    <tr>\n",
              "      <th>17</th>\n",
              "      <td>0.19</td>\n",
              "      <td>0.21</td>\n",
              "      <td>98.85</td>\n",
              "      <td>99.52</td>\n",
              "    </tr>\n",
              "    <tr>\n",
              "      <th>18</th>\n",
              "      <td>0.17</td>\n",
              "      <td>0.21</td>\n",
              "      <td>99.01</td>\n",
              "      <td>99.04</td>\n",
              "    </tr>\n",
              "    <tr>\n",
              "      <th>19</th>\n",
              "      <td>0.18</td>\n",
              "      <td>0.17</td>\n",
              "      <td>98.36</td>\n",
              "      <td>99.52</td>\n",
              "    </tr>\n",
              "  </tbody>\n",
              "</table>\n",
              "</div>"
            ],
            "text/plain": [
              "    Train Loss   Valid Loss   Train Accuracy   Valid Accuracy \n",
              "0         1.99         1.92            41.94             51.60\n",
              "1         1.73         1.72            66.61             65.71\n",
              "2         1.45         1.47            79.77             75.16\n",
              "3         1.22         1.25            84.54             80.45\n",
              "4         1.02         1.06            90.13             86.22\n",
              "5         0.82         0.91            93.42             92.95\n",
              "6         0.68         0.77            93.91             94.71\n",
              "7         0.60         0.66            94.90             94.23\n",
              "8         0.48         0.57            96.88             96.63\n",
              "9         0.40         0.51            98.52             97.28\n",
              "10        0.39         0.45            97.20             97.12\n",
              "11        0.36         0.38            97.04             98.08\n",
              "12        0.29         0.34            98.03             99.52\n",
              "13        0.27         0.31            97.86             98.08\n",
              "14        0.23         0.28            98.03             97.60\n",
              "15        0.23         0.26            97.86             98.56\n",
              "16        0.19         0.24            98.52             99.04\n",
              "17        0.19         0.21            98.85             99.52\n",
              "18        0.17         0.21            99.01             99.04\n",
              "19        0.18         0.17            98.36             99.52"
            ]
          },
          "metadata": {
            "tags": []
          },
          "execution_count": 7
        }
      ]
    },
    {
      "cell_type": "code",
      "metadata": {
        "id": "syY-u39jLBSP",
        "colab": {
          "base_uri": "https://localhost:8080/",
          "height": 294
        },
        "outputId": "5897713d-d9ad-42c5-8e7c-a0856d92b733"
      },
      "source": [
        "# grpahic accuracy training\n",
        "import matplotlib.pyplot as plt\n",
        "data.round(3)\n",
        "\n",
        "y = data[' Train Accuracy']\n",
        "\n",
        "x  = range(len(y))\n",
        "y1 = data[' Train Accuracy'].tolist()\n",
        "y2 = data[' Valid Accuracy '].tolist()\n",
        "plt.plot(x, y1, label=\"Train acc\")\n",
        "plt.plot(x, y2, label=\"Val acc\")\n",
        "plt.plot()\n",
        "\n",
        "plt.xlabel(\"epoch\")\n",
        "plt.ylabel(\"accuracy\")\n",
        "plt.title(\"Line Graph Example\")\n",
        "plt.legend()\n",
        "plt.show()"
      ],
      "execution_count": null,
      "outputs": [
        {
          "output_type": "display_data",
          "data": {
            "image/png": "[encoded data removed]",
            "text/plain": [
              "<Figure size 432x288 with 1 Axes>"
            ]
          },
          "metadata": {
            "tags": [],
            "needs_background": "light"
          }
        }
      ]
    },
    {
      "cell_type": "markdown",
      "metadata": {
        "id": "kDAiOeatQDCP"
      },
      "source": [
        "***Langkah - Proses Training***"
      ]
    },
    {
      "cell_type": "code",
      "metadata": {
        "id": "haVCXMT4rOOT"
      },
      "source": [
        "# Folder data set\n",
        "p = Path('dataset-daun10/train')"
      ],
      "execution_count": null,
      "outputs": []
    },
    {
      "cell_type": "code",
      "metadata": {
        "id": "GKh2o0XlrkjG",
        "colab": {
          "base_uri": "https://localhost:8080/"
        },
        "outputId": "e2497b46-9ff5-4a4e-aa30-f03133f0539d"
      },
      "source": [
        "# Melihat semua isi dari folder p\n",
        "list(p.glob('*'))"
      ],
      "execution_count": null,
      "outputs": [
        {
          "output_type": "execute_result",
          "data": {
            "text/plain": [
              "[PosixPath('dataset-daun10/train/Tin_Ara'),\n",
              " PosixPath('dataset-daun10/train/Gingseng_Jawa'),\n",
              " PosixPath('dataset-daun10/train/Kumis_Kucing'),\n",
              " PosixPath('dataset-daun10/train/Bugenvil_Putih'),\n",
              " PosixPath('dataset-daun10/train/Keji_Beling'),\n",
              " PosixPath('dataset-daun10/train/Daun_Sirih'),\n",
              " PosixPath('dataset-daun10/train/Sembung'),\n",
              " PosixPath('dataset-daun10/train/Buah_Ajaib'),\n",
              " PosixPath('dataset-daun10/train/Kumquat_Nagami'),\n",
              " PosixPath('dataset-daun10/train/Pukul_Empat')]"
            ]
          },
          "metadata": {
            "tags": []
          },
          "execution_count": 9
        }
      ]
    },
    {
      "cell_type": "code",
      "metadata": {
        "id": "RdbetajGCYIM",
        "colab": {
          "base_uri": "https://localhost:8080/"
        },
        "outputId": "3986920c-93fb-4aa2-83f3-b9a10c3018f6"
      },
      "source": [
        "list(enumerate(list(p.iterdir())))"
      ],
      "execution_count": null,
      "outputs": [
        {
          "output_type": "execute_result",
          "data": {
            "text/plain": [
              "[(0, PosixPath('dataset-daun10/train/Tin_Ara')),\n",
              " (1, PosixPath('dataset-daun10/train/Gingseng_Jawa')),\n",
              " (2, PosixPath('dataset-daun10/train/Kumis_Kucing')),\n",
              " (3, PosixPath('dataset-daun10/train/Bugenvil_Putih')),\n",
              " (4, PosixPath('dataset-daun10/train/Keji_Beling')),\n",
              " (5, PosixPath('dataset-daun10/train/Daun_Sirih')),\n",
              " (6, PosixPath('dataset-daun10/train/Sembung')),\n",
              " (7, PosixPath('dataset-daun10/train/Buah_Ajaib')),\n",
              " (8, PosixPath('dataset-daun10/train/Kumquat_Nagami')),\n",
              " (9, PosixPath('dataset-daun10/train/Pukul_Empat'))]"
            ]
          },
          "metadata": {
            "tags": []
          },
          "execution_count": 10
        }
      ]
    },
    {
      "cell_type": "code",
      "metadata": {
        "id": "DKlqPGC8DUYB",
        "colab": {
          "base_uri": "https://localhost:8080/"
        },
        "outputId": "28d0dc62-7efd-4bb9-affd-2e07cad3be50"
      },
      "source": [
        "# One hot enconding <- silahkan googling\n",
        "one_hot = {x[1].name:x[0] for x in list(enumerate(list(p.iterdir())))}\n",
        "# sorted(one_hot, key=lambda x:x[1])\n",
        "one_hot"
      ],
      "execution_count": null,
      "outputs": [
        {
          "output_type": "execute_result",
          "data": {
            "text/plain": [
              "{'Buah_Ajaib': 7,\n",
              " 'Bugenvil_Putih': 3,\n",
              " 'Daun_Sirih': 5,\n",
              " 'Gingseng_Jawa': 1,\n",
              " 'Keji_Beling': 4,\n",
              " 'Kumis_Kucing': 2,\n",
              " 'Kumquat_Nagami': 8,\n",
              " 'Pukul_Empat': 9,\n",
              " 'Sembung': 6,\n",
              " 'Tin_Ara': 0}"
            ]
          },
          "metadata": {
            "tags": []
          },
          "execution_count": 11
        }
      ]
    },
    {
      "cell_type": "code",
      "metadata": {
        "id": "bJ2S5qoVrnEu"
      },
      "source": [
        "# Membuat dataset\n",
        "class DatasetDaun(Dataset):\n",
        "  {x[1].name:x[0] for x in list(enumerate(list(p.iterdir())))}\n",
        "  def __init__(self, path, trfm=None):\n",
        "    self.path = Path(path)\n",
        "    self.images = list(self.path.glob(\"*/*.jpg\"))\n",
        "    self.trfm = trfm\n",
        "    self.do_one_hot_encoding()\n",
        "  \n",
        "  def do_one_hot_encoding(self):\n",
        "    self.one_hot = {x[1].name:x[0] for x in list(enumerate(list(p.iterdir())))}\n",
        "\n",
        "  def __len__(self):\n",
        "    return len(self.images)\n",
        "  \n",
        "  def __getitem__(self, i):\n",
        "    path_image = self.images[i]\n",
        "    image = Image.open(path_image)\n",
        "    target = self.one_hot[path_image.parent.name]\n",
        "    if self.trfm != None:\n",
        "      image = self.trfm(image)\n",
        "    return image, target\n",
        "  "
      ],
      "execution_count": null,
      "outputs": []
    },
    {
      "cell_type": "code",
      "metadata": {
        "id": "jwYFwjukp39H"
      },
      "source": [
        "train_trfm = trfm.Compose([\n",
        "                           trfm.Resize((300, 300)),\n",
        "                           trfm.CenterCrop((224, 224)),\n",
        "                           trfm.RandomHorizontalFlip(),\n",
        "                           trfm.RandomVerticalFlip(),\n",
        "                           trfm.RandomRotation(30),\n",
        "                           trfm.CenterCrop((224, 224)),\n",
        "                           trfm.RandomHorizontalFlip(),\n",
        "                           trfm.RandomVerticalFlip(),\n",
        "                           trfm.RandomRotation(30),\n",
        "                           trfm.ToTensor(),\n",
        "                           trfm.Normalize(mean=(0.485, 0.456, 0.406), std=(0.229, 0.224, 0.225))\n",
        "])\n",
        "\n",
        "valid_trfm = trfm.Compose([\n",
        "                           trfm.Resize((300, 300)),\n",
        "                           trfm.CenterCrop((224, 224)),\n",
        "                           trfm.ToTensor(),\n",
        "                           trfm.Normalize(mean=(0.485, 0.456, 0.406), std=(0.229, 0.224, 0.225))\n",
        "])"
      ],
      "execution_count": null,
      "outputs": []
    },
    {
      "cell_type": "code",
      "metadata": {
        "id": "rbmstBFXxWvX"
      },
      "source": [
        "device = torch.device('cuda' if torch.cuda.is_available() else 'cpu')"
      ],
      "execution_count": null,
      "outputs": []
    },
    {
      "cell_type": "code",
      "metadata": {
        "id": "H_hNPHm66qHK"
      },
      "source": [
        "# mymodel = mobilenet_v2(pretrained=True)\n",
        "# Menggunakan mobileNetV2 <- silahkan googling\n",
        "mymodel = mobilenet_v2()"
      ],
      "execution_count": null,
      "outputs": []
    },
    {
      "cell_type": "code",
      "metadata": {
        "id": "wsQEjQ1PxYB4"
      },
      "source": [
        "mymodel.classifier = nn.Sequential(\n",
        "    nn.Dropout(0.2),\n",
        "    nn.Linear(1280, 10)\n",
        ")"
      ],
      "execution_count": null,
      "outputs": []
    },
    {
      "cell_type": "code",
      "metadata": {
        "id": "7FZMwMFq0kSG",
        "colab": {
          "base_uri": "https://localhost:8080/"
        },
        "outputId": "4bb8d2f8-36b8-4175-8866-f80612a38531"
      },
      "source": [
        "# Melihat isi layer model\n",
        "mymodel.to(device)"
      ],
      "execution_count": null,
      "outputs": [
        {
          "output_type": "execute_result",
          "data": {
            "text/plain": [
              "MobileNetV2(\n",
              "  (features): Sequential(\n",
              "    (0): ConvBNActivation(\n",
              "      (0): Conv2d(3, 32, kernel_size=(3, 3), stride=(2, 2), padding=(1, 1), bias=False)\n",
              "      (1): BatchNorm2d(32, eps=1e-05, momentum=0.1, affine=True, track_running_stats=True)\n",
              "      (2): ReLU6(inplace=True)\n",
              "    )\n",
              "    (1): InvertedResidual(\n",
              "      (conv): Sequential(\n",
              "        (0): ConvBNActivation(\n",
              "          (0): Conv2d(32, 32, kernel_size=(3, 3), stride=(1, 1), padding=(1, 1), groups=32, bias=False)\n",
              "          (1): BatchNorm2d(32, eps=1e-05, momentum=0.1, affine=True, track_running_stats=True)\n",
              "          (2): ReLU6(inplace=True)\n",
              "        )\n",
              "        (1): Conv2d(32, 16, kernel_size=(1, 1), stride=(1, 1), bias=False)\n",
              "        (2): BatchNorm2d(16, eps=1e-05, momentum=0.1, affine=True, track_running_stats=True)\n",
              "      )\n",
              "    )\n",
              "    (2): InvertedResidual(\n",
              "      (conv): Sequential(\n",
              "        (0): ConvBNActivation(\n",
              "          (0): Conv2d(16, 96, kernel_size=(1, 1), stride=(1, 1), bias=False)\n",
              "          (1): BatchNorm2d(96, eps=1e-05, momentum=0.1, affine=True, track_running_stats=True)\n",
              "          (2): ReLU6(inplace=True)\n",
              "        )\n",
              "        (1): ConvBNActivation(\n",
              "          (0): Conv2d(96, 96, kernel_size=(3, 3), stride=(2, 2), padding=(1, 1), groups=96, bias=False)\n",
              "          (1): BatchNorm2d(96, eps=1e-05, momentum=0.1, affine=True, track_running_stats=True)\n",
              "          (2): ReLU6(inplace=True)\n",
              "        )\n",
              "        (2): Conv2d(96, 24, kernel_size=(1, 1), stride=(1, 1), bias=False)\n",
              "        (3): BatchNorm2d(24, eps=1e-05, momentum=0.1, affine=True, track_running_stats=True)\n",
              "      )\n",
              "    )\n",
              "    (3): InvertedResidual(\n",
              "      (conv): Sequential(\n",
              "        (0): ConvBNActivation(\n",
              "          (0): Conv2d(24, 144, kernel_size=(1, 1), stride=(1, 1), bias=False)\n",
              "          (1): BatchNorm2d(144, eps=1e-05, momentum=0.1, affine=True, track_running_stats=True)\n",
              "          (2): ReLU6(inplace=True)\n",
              "        )\n",
              "        (1): ConvBNActivation(\n",
              "          (0): Conv2d(144, 144, kernel_size=(3, 3), stride=(1, 1), padding=(1, 1), groups=144, bias=False)\n",
              "          (1): BatchNorm2d(144, eps=1e-05, momentum=0.1, affine=True, track_running_stats=True)\n",
              "          (2): ReLU6(inplace=True)\n",
              "        )\n",
              "        (2): Conv2d(144, 24, kernel_size=(1, 1), stride=(1, 1), bias=False)\n",
              "        (3): BatchNorm2d(24, eps=1e-05, momentum=0.1, affine=True, track_running_stats=True)\n",
              "      )\n",
              "    )\n",
              "    (4): InvertedResidual(\n",
              "      (conv): Sequential(\n",
              "        (0): ConvBNActivation(\n",
              "          (0): Conv2d(24, 144, kernel_size=(1, 1), stride=(1, 1), bias=False)\n",
              "          (1): BatchNorm2d(144, eps=1e-05, momentum=0.1, affine=True, track_running_stats=True)\n",
              "          (2): ReLU6(inplace=True)\n",
              "        )\n",
              "        (1): ConvBNActivation(\n",
              "          (0): Conv2d(144, 144, kernel_size=(3, 3), stride=(2, 2), padding=(1, 1), groups=144, bias=False)\n",
              "          (1): BatchNorm2d(144, eps=1e-05, momentum=0.1, affine=True, track_running_stats=True)\n",
              "          (2): ReLU6(inplace=True)\n",
              "        )\n",
              "        (2): Conv2d(144, 32, kernel_size=(1, 1), stride=(1, 1), bias=False)\n",
              "        (3): BatchNorm2d(32, eps=1e-05, momentum=0.1, affine=True, track_running_stats=True)\n",
              "      )\n",
              "    )\n",
              "    (5): InvertedResidual(\n",
              "      (conv): Sequential(\n",
              "        (0): ConvBNActivation(\n",
              "          (0): Conv2d(32, 192, kernel_size=(1, 1), stride=(1, 1), bias=False)\n",
              "          (1): BatchNorm2d(192, eps=1e-05, momentum=0.1, affine=True, track_running_stats=True)\n",
              "          (2): ReLU6(inplace=True)\n",
              "        )\n",
              "        (1): ConvBNActivation(\n",
              "          (0): Conv2d(192, 192, kernel_size=(3, 3), stride=(1, 1), padding=(1, 1), groups=192, bias=False)\n",
              "          (1): BatchNorm2d(192, eps=1e-05, momentum=0.1, affine=True, track_running_stats=True)\n",
              "          (2): ReLU6(inplace=True)\n",
              "        )\n",
              "        (2): Conv2d(192, 32, kernel_size=(1, 1), stride=(1, 1), bias=False)\n",
              "        (3): BatchNorm2d(32, eps=1e-05, momentum=0.1, affine=True, track_running_stats=True)\n",
              "      )\n",
              "    )\n",
              "    (6): InvertedResidual(\n",
              "      (conv): Sequential(\n",
              "        (0): ConvBNActivation(\n",
              "          (0): Conv2d(32, 192, kernel_size=(1, 1), stride=(1, 1), bias=False)\n",
              "          (1): BatchNorm2d(192, eps=1e-05, momentum=0.1, affine=True, track_running_stats=True)\n",
              "          (2): ReLU6(inplace=True)\n",
              "        )\n",
              "        (1): ConvBNActivation(\n",
              "          (0): Conv2d(192, 192, kernel_size=(3, 3), stride=(1, 1), padding=(1, 1), groups=192, bias=False)\n",
              "          (1): BatchNorm2d(192, eps=1e-05, momentum=0.1, affine=True, track_running_stats=True)\n",
              "          (2): ReLU6(inplace=True)\n",
              "        )\n",
              "        (2): Conv2d(192, 32, kernel_size=(1, 1), stride=(1, 1), bias=False)\n",
              "        (3): BatchNorm2d(32, eps=1e-05, momentum=0.1, affine=True, track_running_stats=True)\n",
              "      )\n",
              "    )\n",
              "    (7): InvertedResidual(\n",
              "      (conv): Sequential(\n",
              "        (0): ConvBNActivation(\n",
              "          (0): Conv2d(32, 192, kernel_size=(1, 1), stride=(1, 1), bias=False)\n",
              "          (1): BatchNorm2d(192, eps=1e-05, momentum=0.1, affine=True, track_running_stats=True)\n",
              "          (2): ReLU6(inplace=True)\n",
              "        )\n",
              "        (1): ConvBNActivation(\n",
              "          (0): Conv2d(192, 192, kernel_size=(3, 3), stride=(2, 2), padding=(1, 1), groups=192, bias=False)\n",
              "          (1): BatchNorm2d(192, eps=1e-05, momentum=0.1, affine=True, track_running_stats=True)\n",
              "          (2): ReLU6(inplace=True)\n",
              "        )\n",
              "        (2): Conv2d(192, 64, kernel_size=(1, 1), stride=(1, 1), bias=False)\n",
              "        (3): BatchNorm2d(64, eps=1e-05, momentum=0.1, affine=True, track_running_stats=True)\n",
              "      )\n",
              "    )\n",
              "    (8): InvertedResidual(\n",
              "      (conv): Sequential(\n",
              "        (0): ConvBNActivation(\n",
              "          (0): Conv2d(64, 384, kernel_size=(1, 1), stride=(1, 1), bias=False)\n",
              "          (1): BatchNorm2d(384, eps=1e-05, momentum=0.1, affine=True, track_running_stats=True)\n",
              "          (2): ReLU6(inplace=True)\n",
              "        )\n",
              "        (1): ConvBNActivation(\n",
              "          (0): Conv2d(384, 384, kernel_size=(3, 3), stride=(1, 1), padding=(1, 1), groups=384, bias=False)\n",
              "          (1): BatchNorm2d(384, eps=1e-05, momentum=0.1, affine=True, track_running_stats=True)\n",
              "          (2): ReLU6(inplace=True)\n",
              "        )\n",
              "        (2): Conv2d(384, 64, kernel_size=(1, 1), stride=(1, 1), bias=False)\n",
              "        (3): BatchNorm2d(64, eps=1e-05, momentum=0.1, affine=True, track_running_stats=True)\n",
              "      )\n",
              "    )\n",
              "    (9): InvertedResidual(\n",
              "      (conv): Sequential(\n",
              "        (0): ConvBNActivation(\n",
              "          (0): Conv2d(64, 384, kernel_size=(1, 1), stride=(1, 1), bias=False)\n",
              "          (1): BatchNorm2d(384, eps=1e-05, momentum=0.1, affine=True, track_running_stats=True)\n",
              "          (2): ReLU6(inplace=True)\n",
              "        )\n",
              "        (1): ConvBNActivation(\n",
              "          (0): Conv2d(384, 384, kernel_size=(3, 3), stride=(1, 1), padding=(1, 1), groups=384, bias=False)\n",
              "          (1): BatchNorm2d(384, eps=1e-05, momentum=0.1, affine=True, track_running_stats=True)\n",
              "          (2): ReLU6(inplace=True)\n",
              "        )\n",
              "        (2): Conv2d(384, 64, kernel_size=(1, 1), stride=(1, 1), bias=False)\n",
              "        (3): BatchNorm2d(64, eps=1e-05, momentum=0.1, affine=True, track_running_stats=True)\n",
              "      )\n",
              "    )\n",
              "    (10): InvertedResidual(\n",
              "      (conv): Sequential(\n",
              "        (0): ConvBNActivation(\n",
              "          (0): Conv2d(64, 384, kernel_size=(1, 1), stride=(1, 1), bias=False)\n",
              "          (1): BatchNorm2d(384, eps=1e-05, momentum=0.1, affine=True, track_running_stats=True)\n",
              "          (2): ReLU6(inplace=True)\n",
              "        )\n",
              "        (1): ConvBNActivation(\n",
              "          (0): Conv2d(384, 384, kernel_size=(3, 3), stride=(1, 1), padding=(1, 1), groups=384, bias=False)\n",
              "          (1): BatchNorm2d(384, eps=1e-05, momentum=0.1, affine=True, track_running_stats=True)\n",
              "          (2): ReLU6(inplace=True)\n",
              "        )\n",
              "        (2): Conv2d(384, 64, kernel_size=(1, 1), stride=(1, 1), bias=False)\n",
              "        (3): BatchNorm2d(64, eps=1e-05, momentum=0.1, affine=True, track_running_stats=True)\n",
              "      )\n",
              "    )\n",
              "    (11): InvertedResidual(\n",
              "      (conv): Sequential(\n",
              "        (0): ConvBNActivation(\n",
              "          (0): Conv2d(64, 384, kernel_size=(1, 1), stride=(1, 1), bias=False)\n",
              "          (1): BatchNorm2d(384, eps=1e-05, momentum=0.1, affine=True, track_running_stats=True)\n",
              "          (2): ReLU6(inplace=True)\n",
              "        )\n",
              "        (1): ConvBNActivation(\n",
              "          (0): Conv2d(384, 384, kernel_size=(3, 3), stride=(1, 1), padding=(1, 1), groups=384, bias=False)\n",
              "          (1): BatchNorm2d(384, eps=1e-05, momentum=0.1, affine=True, track_running_stats=True)\n",
              "          (2): ReLU6(inplace=True)\n",
              "        )\n",
              "        (2): Conv2d(384, 96, kernel_size=(1, 1), stride=(1, 1), bias=False)\n",
              "        (3): BatchNorm2d(96, eps=1e-05, momentum=0.1, affine=True, track_running_stats=True)\n",
              "      )\n",
              "    )\n",
              "    (12): InvertedResidual(\n",
              "      (conv): Sequential(\n",
              "        (0): ConvBNActivation(\n",
              "          (0): Conv2d(96, 576, kernel_size=(1, 1), stride=(1, 1), bias=False)\n",
              "          (1): BatchNorm2d(576, eps=1e-05, momentum=0.1, affine=True, track_running_stats=True)\n",
              "          (2): ReLU6(inplace=True)\n",
              "        )\n",
              "        (1): ConvBNActivation(\n",
              "          (0): Conv2d(576, 576, kernel_size=(3, 3), stride=(1, 1), padding=(1, 1), groups=576, bias=False)\n",
              "          (1): BatchNorm2d(576, eps=1e-05, momentum=0.1, affine=True, track_running_stats=True)\n",
              "          (2): ReLU6(inplace=True)\n",
              "        )\n",
              "        (2): Conv2d(576, 96, kernel_size=(1, 1), stride=(1, 1), bias=False)\n",
              "        (3): BatchNorm2d(96, eps=1e-05, momentum=0.1, affine=True, track_running_stats=True)\n",
              "      )\n",
              "    )\n",
              "    (13): InvertedResidual(\n",
              "      (conv): Sequential(\n",
              "        (0): ConvBNActivation(\n",
              "          (0): Conv2d(96, 576, kernel_size=(1, 1), stride=(1, 1), bias=False)\n",
              "          (1): BatchNorm2d(576, eps=1e-05, momentum=0.1, affine=True, track_running_stats=True)\n",
              "          (2): ReLU6(inplace=True)\n",
              "        )\n",
              "        (1): ConvBNActivation(\n",
              "          (0): Conv2d(576, 576, kernel_size=(3, 3), stride=(1, 1), padding=(1, 1), groups=576, bias=False)\n",
              "          (1): BatchNorm2d(576, eps=1e-05, momentum=0.1, affine=True, track_running_stats=True)\n",
              "          (2): ReLU6(inplace=True)\n",
              "        )\n",
              "        (2): Conv2d(576, 96, kernel_size=(1, 1), stride=(1, 1), bias=False)\n",
              "        (3): BatchNorm2d(96, eps=1e-05, momentum=0.1, affine=True, track_running_stats=True)\n",
              "      )\n",
              "    )\n",
              "    (14): InvertedResidual(\n",
              "      (conv): Sequential(\n",
              "        (0): ConvBNActivation(\n",
              "          (0): Conv2d(96, 576, kernel_size=(1, 1), stride=(1, 1), bias=False)\n",
              "          (1): BatchNorm2d(576, eps=1e-05, momentum=0.1, affine=True, track_running_stats=True)\n",
              "          (2): ReLU6(inplace=True)\n",
              "        )\n",
              "        (1): ConvBNActivation(\n",
              "          (0): Conv2d(576, 576, kernel_size=(3, 3), stride=(2, 2), padding=(1, 1), groups=576, bias=False)\n",
              "          (1): BatchNorm2d(576, eps=1e-05, momentum=0.1, affine=True, track_running_stats=True)\n",
              "          (2): ReLU6(inplace=True)\n",
              "        )\n",
              "        (2): Conv2d(576, 160, kernel_size=(1, 1), stride=(1, 1), bias=False)\n",
              "        (3): BatchNorm2d(160, eps=1e-05, momentum=0.1, affine=True, track_running_stats=True)\n",
              "      )\n",
              "    )\n",
              "    (15): InvertedResidual(\n",
              "      (conv): Sequential(\n",
              "        (0): ConvBNActivation(\n",
              "          (0): Conv2d(160, 960, kernel_size=(1, 1), stride=(1, 1), bias=False)\n",
              "          (1): BatchNorm2d(960, eps=1e-05, momentum=0.1, affine=True, track_running_stats=True)\n",
              "          (2): ReLU6(inplace=True)\n",
              "        )\n",
              "        (1): ConvBNActivation(\n",
              "          (0): Conv2d(960, 960, kernel_size=(3, 3), stride=(1, 1), padding=(1, 1), groups=960, bias=False)\n",
              "          (1): BatchNorm2d(960, eps=1e-05, momentum=0.1, affine=True, track_running_stats=True)\n",
              "          (2): ReLU6(inplace=True)\n",
              "        )\n",
              "        (2): Conv2d(960, 160, kernel_size=(1, 1), stride=(1, 1), bias=False)\n",
              "        (3): BatchNorm2d(160, eps=1e-05, momentum=0.1, affine=True, track_running_stats=True)\n",
              "      )\n",
              "    )\n",
              "    (16): InvertedResidual(\n",
              "      (conv): Sequential(\n",
              "        (0): ConvBNActivation(\n",
              "          (0): Conv2d(160, 960, kernel_size=(1, 1), stride=(1, 1), bias=False)\n",
              "          (1): BatchNorm2d(960, eps=1e-05, momentum=0.1, affine=True, track_running_stats=True)\n",
              "          (2): ReLU6(inplace=True)\n",
              "        )\n",
              "        (1): ConvBNActivation(\n",
              "          (0): Conv2d(960, 960, kernel_size=(3, 3), stride=(1, 1), padding=(1, 1), groups=960, bias=False)\n",
              "          (1): BatchNorm2d(960, eps=1e-05, momentum=0.1, affine=True, track_running_stats=True)\n",
              "          (2): ReLU6(inplace=True)\n",
              "        )\n",
              "        (2): Conv2d(960, 160, kernel_size=(1, 1), stride=(1, 1), bias=False)\n",
              "        (3): BatchNorm2d(160, eps=1e-05, momentum=0.1, affine=True, track_running_stats=True)\n",
              "      )\n",
              "    )\n",
              "    (17): InvertedResidual(\n",
              "      (conv): Sequential(\n",
              "        (0): ConvBNActivation(\n",
              "          (0): Conv2d(160, 960, kernel_size=(1, 1), stride=(1, 1), bias=False)\n",
              "          (1): BatchNorm2d(960, eps=1e-05, momentum=0.1, affine=True, track_running_stats=True)\n",
              "          (2): ReLU6(inplace=True)\n",
              "        )\n",
              "        (1): ConvBNActivation(\n",
              "          (0): Conv2d(960, 960, kernel_size=(3, 3), stride=(1, 1), padding=(1, 1), groups=960, bias=False)\n",
              "          (1): BatchNorm2d(960, eps=1e-05, momentum=0.1, affine=True, track_running_stats=True)\n",
              "          (2): ReLU6(inplace=True)\n",
              "        )\n",
              "        (2): Conv2d(960, 320, kernel_size=(1, 1), stride=(1, 1), bias=False)\n",
              "        (3): BatchNorm2d(320, eps=1e-05, momentum=0.1, affine=True, track_running_stats=True)\n",
              "      )\n",
              "    )\n",
              "    (18): ConvBNActivation(\n",
              "      (0): Conv2d(320, 1280, kernel_size=(1, 1), stride=(1, 1), bias=False)\n",
              "      (1): BatchNorm2d(1280, eps=1e-05, momentum=0.1, affine=True, track_running_stats=True)\n",
              "      (2): ReLU6(inplace=True)\n",
              "    )\n",
              "  )\n",
              "  (classifier): Sequential(\n",
              "    (0): Dropout(p=0.2, inplace=False)\n",
              "    (1): Linear(in_features=1280, out_features=10, bias=True)\n",
              "  )\n",
              ")"
            ]
          },
          "metadata": {
            "tags": []
          },
          "execution_count": 17
        }
      ]
    },
    {
      "cell_type": "code",
      "metadata": {
        "id": "FqX6pM656xaz"
      },
      "source": [
        "train_set = DatasetDaun(\"dataset-daun10/train\", train_trfm)\n",
        "train_loader = DataLoader(train_set, batch_size=16, shuffle=True)\n",
        "train_loader_iter = iter(train_loader)"
      ],
      "execution_count": null,
      "outputs": []
    },
    {
      "cell_type": "code",
      "metadata": {
        "id": "MbB9SaO_EbjK"
      },
      "source": [
        "valid_set = DatasetDaun(\"dataset-daun10/test\", valid_trfm)\n",
        "valid_loader = DataLoader(valid_set, batch_size=16, shuffle=True)\n",
        "valid_loader_iter = iter(valid_loader)"
      ],
      "execution_count": null,
      "outputs": []
    },
    {
      "cell_type": "code",
      "metadata": {
        "id": "unMXv3ks7IzR"
      },
      "source": [
        "criterion = nn.CrossEntropyLoss()\n",
        "optimizer = optim.SGD(mymodel.parameters(), lr=0.0001, momentum=0.9)"
      ],
      "execution_count": null,
      "outputs": []
    },
    {
      "cell_type": "code",
      "metadata": {
        "id": "sEOUhmjk-8FF"
      },
      "source": [
        "from sklearn.metrics import confusion_matrix"
      ],
      "execution_count": null,
      "outputs": []
    },
    {
      "cell_type": "code",
      "metadata": {
        "id": "-5GEQvMKZHZo"
      },
      "source": [
        "# Membuat file CSV dengan nama mobilenetTesting.csv untuk mencatat nilai acc & validasi saat training\n",
        "with open(\"mobilenetTesting.csv\", mode='a') as f:\n",
        "  f.write(\"Train Loss, Valid Loss, Train Accuracy, Valid Accuracy \\n\")\n",
        "def save_data_loss(data):\n",
        "  with open(\"mobilenetTesting.csv\", mode='a') as f:\n",
        "    f.write(f'{data}\\n')"
      ],
      "execution_count": null,
      "outputs": []
    },
    {
      "cell_type": "code",
      "metadata": {
        "id": "kKUL1po2_2_Q",
        "colab": {
          "base_uri": "https://localhost:8080/"
        },
        "outputId": "2458a8cd-5755-40da-8405-84e6078c9c82"
      },
      "source": [
        "ls"
      ],
      "execution_count": null,
      "outputs": [
        {
          "output_type": "stream",
          "text": [
            "02-entire_model.pt  dataloss.csv                mobilenet1.csv\n",
            "\u001b[0m\u001b[01;34massets\u001b[0m/             datalossD1.csv              mobilenet-fix.pt\n",
            "coba.pth            \u001b[01;34mdataset-daun10\u001b[0m/             mobilenets.csv\n",
            "dataloss0001.csv    entire_model.pt             mobilenettest.csv\n",
            "dataloss001.csv     fixdahmodel.pt              mobilenetTesting.csv\n",
            "dataloss1.csv       fix_model.pt                modelfixfix.pt\n",
            "dataloss2.csv       fixmodel.pt                 state_dictentire_model.pt\n",
            "datalossA1.csv      latest.pth                  state_dictfix_model.pt\n",
            "datalossB1.csv      mobile_CPU_mobile_model.pt  state_dict_mobile_model.pt\n",
            "datalossB2.csv      mobile_model_jit.pt         state_dict_model.pt\n",
            "datalossC1.csv      mobile_model.pt\n"
          ],
          "name": "stdout"
        }
      ]
    },
    {
      "cell_type": "code",
      "metadata": {
        "id": "YKgLW8h7anij"
      },
      "source": [
        "# mymodel = torch.load(\"mobilenet-fix.pt\")\n",
        "# mymodel.eval()"
      ],
      "execution_count": null,
      "outputs": []
    },
    {
      "cell_type": "code",
      "metadata": {
        "id": "Eux1y5-07Zn1"
      },
      "source": [
        "for epoch in range(100):\n",
        "\n",
        "    train_loss = []\n",
        "    valid_loss = []\n",
        "    train_acc = []\n",
        "    valid_acc = []\n",
        "\n",
        "    mymodel.train()\n",
        "    for index, train in enumerate(train_loader):\n",
        "        image, target = train\n",
        "        optimizer.zero_grad()\n",
        "        forward = mymodel(image.to(device))\n",
        "        y_pred = forward.argmax(1)\n",
        "        loss = criterion(forward, target.to(device))\n",
        "        loss.backward()\n",
        "        optimizer.step()\n",
        "        acc = sum(1*(target.cpu() == y_pred.cpu()))/(len(target)+.0)\n",
        "        train_loss.append(loss.item())\n",
        "        train_acc.append(acc)\n",
        "\n",
        "    mymodel.eval()\n",
        "    for index, valid in enumerate(valid_loader):\n",
        "        image, target = valid\n",
        "        forward = mymodel(image.to(device))\n",
        "        y_pred = forward.argmax(1)\n",
        "        loss = criterion(forward, target.to(device))\n",
        "        acc = sum(1*(target.cpu() == y_pred.cpu()))/(len(target)+.0)\n",
        "        valid_loss.append(loss.item())\n",
        "        valid_acc.append(acc)\n",
        "        \n",
        "    train_loss = sum(train_loss)/len(train_loss)\n",
        "    valid_loss = sum(valid_loss)/len(valid_loss)\n",
        "    train_accuracy = (sum(train_acc)/len(train_acc))*100\n",
        "    valid_accuracy = (sum(valid_acc)/len(valid_acc))*100\n",
        "    print(f\"Epoch {epoch} - Train Loss {train_loss} - Valid loss {valid_loss} - Train accuracy {train_accuracy} - Valid accuracy {valid_accuracy}\")\n",
        "    save_data_loss(f\"{train_loss},{valid_loss},{train_accuracy},{valid_accuracy}\")\n"
      ],
      "execution_count": null,
      "outputs": []
    },
    {
      "cell_type": "code",
      "metadata": {
        "id": "E_rACJtICNf2"
      },
      "source": [
        "import torch\n",
        "import torchvision"
      ],
      "execution_count": null,
      "outputs": []
    },
    {
      "cell_type": "code",
      "metadata": {
        "id": "fLmiS99KBecE"
      },
      "source": [
        "example = torch.rand(1, 3, 224, 224)\n",
        "trace_script =  torch.jit.trace(model, example)"
      ],
      "execution_count": null,
      "outputs": []
    },
    {
      "cell_type": "code",
      "metadata": {
        "id": "wHLsxNXFO8Wc"
      },
      "source": [
        "trace_script.save(\"modelfixfix.pt\")"
      ],
      "execution_count": null,
      "outputs": []
    },
    {
      "cell_type": "code",
      "metadata": {
        "id": "tVH04QieAI7X"
      },
      "source": [
        "PATH = \"fix_model.pt\"\n",
        "\n",
        "# Save model\n",
        "torch.save(mymodel, PATH)\n",
        "torch.save(mymodel.state_dict(), \"state_dict\"+PATH)"
      ],
      "execution_count": null,
      "outputs": []
    },
    {
      "cell_type": "code",
      "metadata": {
        "id": "t5LGcLSlThhg",
        "colab": {
          "base_uri": "https://localhost:8080/",
          "height": 190
        },
        "outputId": "bd66a532-3c4e-493c-9f69-8a2bac1287a9"
      },
      "source": [
        "classes = {one_hot[key]:key for key in one_hot.keys()}\n",
        "classes"
      ],
      "execution_count": null,
      "outputs": [
        {
          "output_type": "execute_result",
          "data": {
            "text/plain": [
              "{0: 'Tin_Ara',\n",
              " 1: 'Gingseng_Jawa',\n",
              " 2: 'Kumis_Kucing',\n",
              " 3: 'Bugenvil_Putih',\n",
              " 4: 'Keji_Beling',\n",
              " 5: 'Daun_Sirih',\n",
              " 6: 'Sembung',\n",
              " 7: 'Buah_Ajaib',\n",
              " 8: 'Kumquat_Nagami',\n",
              " 9: 'Pukul_Empat'}"
            ]
          },
          "metadata": {
            "tags": []
          },
          "execution_count": 24
        }
      ]
    },
    {
      "cell_type": "code",
      "metadata": {
        "id": "DMcwijk1GWjA",
        "colab": {
          "base_uri": "https://localhost:8080/",
          "height": 390
        },
        "outputId": "bdfc1726-3626-4f9d-af04-b92fc1de14dd"
      },
      "source": [
        "# Test model yg sudah di training\n",
        "mymodel.eval()\n",
        "idx = 0\n",
        "x, y = valid_loader_iter.next()\n",
        "\n",
        "img, label = x[idx], y[idx]\n",
        "\n",
        "# truth = classes[label.item()]\n",
        "pred = mymodel.forward(img.unsqueeze(0).to(device))\n",
        "max_ = torch.argmax(pred)\n",
        "predicted = classes[max_.item()]\n",
        "# print(pred)\n",
        "# print(classes)\n",
        "\n",
        "img = x[idx] * 224\n",
        "plt.imshow(img[idx])\n",
        "print(\"truth\", classes[label.item()], \"predicted\", predicted, \"arg max\", max_)\n",
        "print(\"Y\", y.cpu())\n",
        "print(\"Pred\", pred.cpu())\n",
        "print(max_.cpu())\n",
        "y.cpu() == max_.cpu()"
      ],
      "execution_count": null,
      "outputs": [
        {
          "output_type": "stream",
          "text": [
            "truth Kumquat_Nagami predicted Kumquat_Nagami arg max tensor(8, device='cuda:0')\n",
            "Y tensor([8, 5, 8, 7, 8, 5, 5, 4, 8, 5, 0, 4, 8, 2, 6, 3])\n",
            "Pred tensor([[-0.4994,  1.8351,  0.8795, -0.9557, -1.5938,  0.3933, -0.8795, -0.9215,\n",
            "          5.5836, -1.7401]], grad_fn=<CopyBackwards>)\n",
            "tensor(8)\n"
          ],
          "name": "stdout"
        },
        {
          "output_type": "execute_result",
          "data": {
            "text/plain": [
              "tensor([ True, False,  True, False,  True, False, False, False,  True, False,\n",
              "        False, False,  True, False, False, False])"
            ]
          },
          "metadata": {
            "tags": []
          },
          "execution_count": 28
        },
        {
          "output_type": "display_data",
          "data": {
            "image/png": "[encoded data removed]",
            "text/plain": [
              "<Figure size 432x288 with 1 Axes>"
            ]
          },
          "metadata": {
            "tags": [],
            "needs_background": "light"
          }
        }
      ]
    },
    {
      "cell_type": "code",
      "metadata": {
        "id": "Lkzje6IKAi29"
      },
      "source": [
        "# mymodel"
      ],
      "execution_count": null,
      "outputs": []
    },
    {
      "cell_type": "markdown",
      "metadata": {
        "id": "OomnNDmA90VJ"
      },
      "source": [
        "**Lakukan di terminal ipython** untuk export ke mobile\n"
      ]
    },
    {
      "cell_type": "code",
      "metadata": {
        "id": "gaNFtJqfsgr6"
      },
      "source": [
        "PATH = \"mobile_model.pt\"\n",
        "\n",
        "# Save\n",
        "# torch.save(mymodel, PATH)\n",
        "torch.save(mymodel.state_dict(), \"state_dict_\"+PATH)"
      ],
      "execution_count": null,
      "outputs": []
    },
    {
      "cell_type": "code",
      "metadata": {
        "id": "fPp-AKqUEM3h"
      },
      "source": [
        "PATH = \"mobile_model.pt\"\n",
        "state_dicts = torch.load(\"state_dict_\"+PATH)"
      ],
      "execution_count": null,
      "outputs": []
    },
    {
      "cell_type": "code",
      "metadata": {
        "id": "CpnTchWVeQ1L"
      },
      "source": [
        "#Import model from torchvision untuk model yg akan digunkan\n",
        "model = mobilenet_v2()"
      ],
      "execution_count": null,
      "outputs": []
    },
    {
      "cell_type": "code",
      "metadata": {
        "id": "0dCnbRnf8uql"
      },
      "source": [
        "#Import nn untuk memodifikasi jaringan classifier\n",
        "import torch.nn as nn"
      ],
      "execution_count": null,
      "outputs": []
    },
    {
      "cell_type": "code",
      "metadata": {
        "id": "X2jbHaRREc7u"
      },
      "source": [
        "# Mengubah classifier(ujung layer) sesuai dengan jumlah kelas yang digunakan\n",
        "\n",
        "model.classifier = nn.Sequential(\n",
        "    nn.Dropout(0.2),\n",
        "    nn.Linear(1280, 10)\n",
        ")"
      ],
      "execution_count": null,
      "outputs": []
    },
    {
      "cell_type": "code",
      "metadata": {
        "id": "K-6JxSRsEthC",
        "colab": {
          "base_uri": "https://localhost:8080/",
          "height": 34
        },
        "outputId": "bdb53d0a-4426-4155-f8ba-1afb1525f391"
      },
      "source": [
        "# Model me load state dict yg sudah disimpan sebelumnya\n",
        "model.load_state_dict(state_dicts)\n",
        "# masih optional\n",
        "model.cpu()\n",
        "# model eval\n",
        "model.eval()"
      ],
      "execution_count": null,
      "outputs": [
        {
          "output_type": "execute_result",
          "data": {
            "text/plain": [
              "<All keys matched successfully>"
            ]
          },
          "metadata": {
            "tags": []
          },
          "execution_count": 79
        }
      ]
    },
    {
      "cell_type": "code",
      "metadata": {
        "id": "P8_-XhlNHZqb"
      },
      "source": [
        "# mMengubah mode menjadi torchscript \n",
        "example = torch.rand(1, 3, 224, 224)\n",
        "traced_script_module = torch.jit.trace(saved, example)\n",
        "traced_script_module.save(\"mobile_model_fix.pt\")"
      ],
      "execution_count": null,
      "outputs": []
    },
    {
      "cell_type": "code",
      "metadata": {
        "id": "gAeUaHM6LV2B"
      },
      "source": [
        "mymodel.cpu()"
      ],
      "execution_count": null,
      "outputs": []
    },
    {
      "cell_type": "code",
      "metadata": {
        "id": "nsueDn-nLYTs"
      },
      "source": [
        "torch.save(mymodel.state_dict(), \"mobile_CPU_\"+PATH)"
      ],
      "execution_count": null,
      "outputs": []
    },
    {
      "cell_type": "code",
      "metadata": {
        "id": "Ac4YdRO8yvQ-"
      },
      "source": [
        "trace_script_module.save(\"model.pt\")"
      ],
      "execution_count": null,
      "outputs": []
    },
    {
      "cell_type": "code",
      "metadata": {
        "id": "USWoila1smRg"
      },
      "source": [
        "input_tensor = torch.rand(1,3,224,224)\n",
        "traced_script_module = torch.jit.trace(, input_tensor)"
      ],
      "execution_count": null,
      "outputs": []
    },
    {
      "cell_type": "code",
      "metadata": {
        "id": "21LyiDGJtZK8"
      },
      "source": [
        "traced_script_module.save(\"mobilenet-fix.pt\")"
      ],
      "execution_count": null,
      "outputs": []
    }
  ]
}